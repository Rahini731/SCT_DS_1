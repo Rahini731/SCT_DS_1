import pandas as pd
import matplotlib.pyplot as plt
df = pd.read_excel("API_SP.POP.TOTL_DS2_en_excel_v2_38348.xls", skiprows=3)
print("Available columns:", df.columns)
column_name = '2022' if '2022' in df.columns else '2022.0'
df = df[['Country Name', column_name]].dropna()
plt.figure(figsize=(10, 6))
plt.hist(df[column_name], bins=30, color='skyblue', edgecolor='black')
plt.xlabel('Population in 2022')
plt.ylabel('Number of Countries')
plt.title('Histogram of Population (2022)')
plt.grid(True)
plt.tight_layout()
plt.show()

