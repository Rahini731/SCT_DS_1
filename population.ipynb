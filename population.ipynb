import pandas as pd
import matplotlib.pyplot as plt
from google.colab import files

uploaded = files.upload()
filename = list(uploaded.keys())[0]
df = pd.read_excel(filename, skiprows=3)
print("Available columns:\n", df.columns)

year_column = '2022' if '2022' in df.columns else '2022.0'
df = df[['Country Name', year_column]].dropna()

plt.figure(figsize=(12, 6))
plt.hist(df[year_column], bins=30, color='skyblue', edgecolor='black')
plt.xlabel('Population in 2022')
plt.ylabel('Number of Countries')
plt.title('Histogram of Country Populations (2022)')
plt.grid(True)
plt.tight_layout()
plt.show()
